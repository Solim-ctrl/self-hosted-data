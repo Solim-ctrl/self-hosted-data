{
 "cells": [
  {
   "cell_type": "code",
   "execution_count": 1,
   "id": "1dd618e7",
   "metadata": {},
   "outputs": [],
   "source": [
    "from pyspark.sql import SparkSession\n",
    "from pyspark.sql.functions import col, mean, when"
   ]
  },
  {
   "cell_type": "code",
   "execution_count": 2,
   "id": "f15cc0b7",
   "metadata": {},
   "outputs": [],
   "source": [
    "spark = SparkSession.builder.appName(\"Clients Analysis\").getOrCreate() "
   ]
  },
  {
   "cell_type": "code",
   "execution_count": 3,
   "id": "8c9885b4",
   "metadata": {},
   "outputs": [],
   "source": [
    "# Chargement du  CSV\n",
    "df = spark.read.csv(\"clients.csv\", header=True, inferSchema=True)"
   ]
  },
  {
   "cell_type": "code",
   "execution_count": 4,
   "id": "5574b579",
   "metadata": {},
   "outputs": [
    {
     "name": "stdout",
     "output_type": "stream",
     "text": [
      "+------+----+---------+------+\n",
      "|   Nom| Age|    Ville|Revenu|\n",
      "+------+----+---------+------+\n",
      "| Alice|  25|    Paris| 50000|\n",
      "|   Bob|NULL|     Lyon| 40000|\n",
      "|Claire|  35|Marseille| 35000|\n",
      "| David|  40|     NULL| 45000|\n",
      "|  Emma|  22|     Lyon|  NULL|\n",
      "+------+----+---------+------+\n",
      "\n"
     ]
    }
   ],
   "source": [
    "df.show()"
   ]
  },
  {
   "cell_type": "code",
   "execution_count": 7,
   "id": "eba06ae4",
   "metadata": {},
   "outputs": [
    {
     "name": "stdout",
     "output_type": "stream",
     "text": [
      "30.5\n"
     ]
    }
   ],
   "source": [
    "# Remplissage des valeurs manquantes pour l’âge avec la moyenne des âges\n",
    "avg_age = df.select(mean(col(\"Age\"))).first()[0]\n",
    "print(avg_age)\n",
    "df = df.withColumn(\"Age\", when(col(\"Age\").isNull(), avg_age).otherwise(col(\"Age\")))"
   ]
  },
  {
   "cell_type": "code",
   "execution_count": 8,
   "id": "8b869da0",
   "metadata": {},
   "outputs": [
    {
     "name": "stdout",
     "output_type": "stream",
     "text": [
      "+------+----+---------+------+\n",
      "|   Nom| Age|    Ville|Revenu|\n",
      "+------+----+---------+------+\n",
      "| Alice|25.0|    Paris| 50000|\n",
      "|   Bob|30.5|     Lyon| 40000|\n",
      "|Claire|35.0|Marseille| 35000|\n",
      "| David|40.0|     NULL| 45000|\n",
      "|  Emma|22.0|     Lyon|  NULL|\n",
      "+------+----+---------+------+\n",
      "\n"
     ]
    }
   ],
   "source": [
    "df.show()"
   ]
  },
  {
   "cell_type": "code",
   "execution_count": 9,
   "id": "65f50a51",
   "metadata": {},
   "outputs": [],
   "source": [
    "# Remplissage des valeurs manquantes pour la ville avec \"Inconnue\"\n",
    "df = df.fillna({\"Ville\": \"Inconnue\"})"
   ]
  },
  {
   "cell_type": "code",
   "execution_count": 10,
   "id": "d4c5e882",
   "metadata": {},
   "outputs": [
    {
     "name": "stdout",
     "output_type": "stream",
     "text": [
      "+------+----+---------+------+\n",
      "|   Nom| Age|    Ville|Revenu|\n",
      "+------+----+---------+------+\n",
      "| Alice|25.0|    Paris| 50000|\n",
      "|   Bob|30.5|     Lyon| 40000|\n",
      "|Claire|35.0|Marseille| 35000|\n",
      "| David|40.0| Inconnue| 45000|\n",
      "|  Emma|22.0|     Lyon|  NULL|\n",
      "+------+----+---------+------+\n",
      "\n"
     ]
    }
   ],
   "source": [
    "df.show()"
   ]
  },
  {
   "cell_type": "code",
   "execution_count": 11,
   "id": "1a43731d",
   "metadata": {},
   "outputs": [],
   "source": [
    "# Suppression des lignes où le revenu est manquant\n",
    "df = df.filter(col(\"Revenu\").isNotNull())"
   ]
  },
  {
   "cell_type": "code",
   "execution_count": 12,
   "id": "e94e8f73",
   "metadata": {},
   "outputs": [
    {
     "name": "stdout",
     "output_type": "stream",
     "text": [
      "+------+----+---------+------+\n",
      "|   Nom| Age|    Ville|Revenu|\n",
      "+------+----+---------+------+\n",
      "| Alice|25.0|    Paris| 50000|\n",
      "|   Bob|30.5|     Lyon| 40000|\n",
      "|Claire|35.0|Marseille| 35000|\n",
      "| David|40.0| Inconnue| 45000|\n",
      "+------+----+---------+------+\n",
      "\n"
     ]
    }
   ],
   "source": [
    "df.show()"
   ]
  },
  {
   "cell_type": "code",
   "execution_count": 13,
   "id": "3445f8ba",
   "metadata": {},
   "outputs": [],
   "source": [
    "spark.stop()"
   ]
  }
 ],
 "metadata": {
  "kernelspec": {
   "display_name": "Python 3 (ipykernel)",
   "language": "python",
   "name": "python3"
  },
  "language_info": {
   "codemirror_mode": {
    "name": "ipython",
    "version": 3
   },
   "file_extension": ".py",
   "mimetype": "text/x-python",
   "name": "python",
   "nbconvert_exporter": "python",
   "pygments_lexer": "ipython3",
   "version": "3.9.13"
  }
 },
 "nbformat": 4,
 "nbformat_minor": 5
}
