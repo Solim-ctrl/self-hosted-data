{
 "cells": [
  {
   "cell_type": "code",
   "execution_count": 1,
   "id": "ac1f6c4c",
   "metadata": {},
   "outputs": [],
   "source": [
    "from pyspark.sql import SparkSession\n",
    "from pyspark.sql.functions import col, sum, desc"
   ]
  },
  {
   "cell_type": "code",
   "execution_count": 2,
   "id": "9f454335",
   "metadata": {},
   "outputs": [],
   "source": [
    "spark = SparkSession.builder \\\n",
    "    .appName(\"Analyse des transactions\") \\\n",
    "    .getOrCreate()"
   ]
  },
  {
   "cell_type": "code",
   "execution_count": 3,
   "id": "2223c803",
   "metadata": {},
   "outputs": [],
   "source": [
    "# Chargement du  CSV\n",
    "df = spark.read.csv(\"transactions.csv\", header=True, inferSchema=True)"
   ]
  },
  {
   "cell_type": "code",
   "execution_count": 4,
   "id": "29e92bae",
   "metadata": {},
   "outputs": [
    {
     "name": "stdout",
     "output_type": "stream",
     "text": [
      "+------+----------+-------+\n",
      "|Client|      Date|Montant|\n",
      "+------+----------+-------+\n",
      "| Alice|01/01/2024|    150|\n",
      "|   Bob|02/01/2024|    200|\n",
      "| Alice|03/01/2024|    100|\n",
      "|  Emma|04/01/2024|    300|\n",
      "| David|05/01/2024|    250|\n",
      "|  Emma|06/01/2024|     50|\n",
      "+------+----------+-------+\n",
      "\n"
     ]
    }
   ],
   "source": [
    "df.show()"
   ]
  },
  {
   "cell_type": "code",
   "execution_count": 13,
   "id": "7da792cb",
   "metadata": {},
   "outputs": [
    {
     "name": "stdout",
     "output_type": "stream",
     "text": [
      "Total expenses per client ---> \n",
      "+------+--------------+\n",
      "|Client|Total expenses|\n",
      "+------+--------------+\n",
      "|   Bob|           200|\n",
      "| Alice|           250|\n",
      "|  Emma|           350|\n",
      "| David|           250|\n",
      "+------+--------------+\n",
      "\n"
     ]
    }
   ],
   "source": [
    "# Calcul des dépenses totales par client\n",
    "total_expenses = df.groupBy(\"Client\").agg(sum(\"Montant\").alias(\"Total expenses\"))\n",
    "print(\"Total expenses per client ---> \")\n",
    "total_expenses.show()"
   ]
  },
  {
   "cell_type": "code",
   "execution_count": 14,
   "id": "21f4324c",
   "metadata": {},
   "outputs": [
    {
     "name": "stdout",
     "output_type": "stream",
     "text": [
      "highest spending customer ---> \n",
      "+------+--------------+\n",
      "|Client|Total expenses|\n",
      "+------+--------------+\n",
      "|  Emma|           350|\n",
      "+------+--------------+\n",
      "\n"
     ]
    }
   ],
   "source": [
    "# Identification du client ayant dépensé le plus\n",
    "client_max_expens = total_expenses.orderBy(col(\"Total expenses\").desc()).limit(1)\n",
    "print(\"highest spending customer ---> \")\n",
    "client_max_expens.show()"
   ]
  },
  {
   "cell_type": "code",
   "execution_count": 15,
   "id": "06b3e21e",
   "metadata": {},
   "outputs": [],
   "source": [
    "spark.stop()"
   ]
  }
 ],
 "metadata": {
  "kernelspec": {
   "display_name": "Python 3 (ipykernel)",
   "language": "python",
   "name": "python3"
  },
  "language_info": {
   "codemirror_mode": {
    "name": "ipython",
    "version": 3
   },
   "file_extension": ".py",
   "mimetype": "text/x-python",
   "name": "python",
   "nbconvert_exporter": "python",
   "pygments_lexer": "ipython3",
   "version": "3.9.13"
  }
 },
 "nbformat": 4,
 "nbformat_minor": 5
}
