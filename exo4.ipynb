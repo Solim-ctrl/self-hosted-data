{
 "cells": [
  {
   "cell_type": "code",
   "execution_count": 1,
   "id": "5747958f",
   "metadata": {},
   "outputs": [],
   "source": [
    "from pyspark.sql import SparkSession\n",
    "from pyspark.sql.functions import col"
   ]
  },
  {
   "cell_type": "code",
   "execution_count": 2,
   "id": "3f779915",
   "metadata": {},
   "outputs": [],
   "source": [
    "spark = SparkSession.builder.appName(\"products analysis\").getOrCreate()"
   ]
  },
  {
   "cell_type": "code",
   "execution_count": 3,
   "id": "4e9199e4",
   "metadata": {},
   "outputs": [],
   "source": [
    "# Chargement du  CSV\n",
    "df = spark.read.csv(\"produits.csv\", header=True, inferSchema=True)"
   ]
  },
  {
   "cell_type": "code",
   "execution_count": 4,
   "id": "594809c9",
   "metadata": {},
   "outputs": [],
   "source": [
    "# Identification des 3 produits les plus chers\n",
    "most_costed_products = df.orderBy(col(\"Prix\").desc()).limit(3)"
   ]
  },
  {
   "cell_type": "code",
   "execution_count": 6,
   "id": "fb0be88c",
   "metadata": {},
   "outputs": [
    {
     "name": "stdout",
     "output_type": "stream",
     "text": [
      "Les 3 produits les plus chers :\n",
      "+----------+------------+----+\n",
      "|   Produit|   Cat�gorie|Prix|\n",
      "+----------+------------+----+\n",
      "|Ordinateur|Electronique| 800|\n",
      "|     Table|      Bureau| 150|\n",
      "|Imprimante|Electronique| 120|\n",
      "+----------+------------+----+\n",
      "\n"
     ]
    }
   ],
   "source": [
    "# Affichage du résultat\n",
    "print(\"Les 3 produits les plus chers :\")\n",
    "most_costed_products.show()"
   ]
  },
  {
   "cell_type": "code",
   "execution_count": 7,
   "id": "defe0bbb",
   "metadata": {},
   "outputs": [],
   "source": [
    "spark.stop()"
   ]
  }
 ],
 "metadata": {
  "kernelspec": {
   "display_name": "Python 3 (ipykernel)",
   "language": "python",
   "name": "python3"
  },
  "language_info": {
   "codemirror_mode": {
    "name": "ipython",
    "version": 3
   },
   "file_extension": ".py",
   "mimetype": "text/x-python",
   "name": "python",
   "nbconvert_exporter": "python",
   "pygments_lexer": "ipython3",
   "version": "3.9.13"
  }
 },
 "nbformat": 4,
 "nbformat_minor": 5
}
