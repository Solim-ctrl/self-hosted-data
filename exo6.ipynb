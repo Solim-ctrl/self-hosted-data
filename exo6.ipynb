{
 "cells": [
  {
   "cell_type": "code",
   "execution_count": 1,
   "id": "79810581",
   "metadata": {},
   "outputs": [],
   "source": [
    "from pyspark.sql import SparkSession\n",
    "from pyspark.sql.functions import col, avg, sum"
   ]
  },
  {
   "cell_type": "code",
   "execution_count": 2,
   "id": "08abf38d",
   "metadata": {},
   "outputs": [],
   "source": [
    "spark = SparkSession.builder \\\n",
    "    .appName(\"Statistiques par catégorie\") \\\n",
    "    .getOrCreate()"
   ]
  },
  {
   "cell_type": "code",
   "execution_count": 6,
   "id": "9006c36e",
   "metadata": {},
   "outputs": [],
   "source": [
    "# Chargement du  CSV\n",
    "df = spark.read.csv(\"produits.csv\", header=True, inferSchema=True)"
   ]
  },
  {
   "cell_type": "code",
   "execution_count": 7,
   "id": "a2139070",
   "metadata": {},
   "outputs": [
    {
     "name": "stdout",
     "output_type": "stream",
     "text": [
      "+----------+------------+----+\n",
      "|   Produit|   Categorie|Prix|\n",
      "+----------+------------+----+\n",
      "|Ordinateur|Electronique| 800|\n",
      "|   Clavier|Electronique|  20|\n",
      "|    Souris|Electronique|  15|\n",
      "|     Table|      Bureau| 150|\n",
      "|    Chaise|      Bureau|  80|\n",
      "|Imprimante|Electronique| 120|\n",
      "+----------+------------+----+\n",
      "\n"
     ]
    }
   ],
   "source": [
    "df.show()"
   ]
  },
  {
   "cell_type": "code",
   "execution_count": 10,
   "id": "4bb5ef7c",
   "metadata": {},
   "outputs": [],
   "source": [
    "# Calcul du prix moyen et du prix total par catégorie\n",
    "statistics_by_category = df.groupBy(\"Categorie\").agg(\n",
    "    avg(\"Prix\").alias(\"Average price\"),\n",
    "    sum(\"Prix\").alias(\"Total price\")\n",
    ")"
   ]
  },
  {
   "cell_type": "code",
   "execution_count": 11,
   "id": "b9f628ec",
   "metadata": {},
   "outputs": [
    {
     "name": "stdout",
     "output_type": "stream",
     "text": [
      "Statistiques par catégorie :\n",
      "+------------+-------------+-----------+\n",
      "|   Categorie|Average price|Total price|\n",
      "+------------+-------------+-----------+\n",
      "|      Bureau|        115.0|        230|\n",
      "|Electronique|       238.75|        955|\n",
      "+------------+-------------+-----------+\n",
      "\n"
     ]
    }
   ],
   "source": [
    "# Résultats\n",
    "print(\"Statistiques par catégorie :\")\n",
    "statistics_by_category.show()"
   ]
  },
  {
   "cell_type": "code",
   "execution_count": 12,
   "id": "ef1796d7",
   "metadata": {},
   "outputs": [],
   "source": [
    "spark.stop()"
   ]
  }
 ],
 "metadata": {
  "kernelspec": {
   "display_name": "Python 3 (ipykernel)",
   "language": "python",
   "name": "python3"
  },
  "language_info": {
   "codemirror_mode": {
    "name": "ipython",
    "version": 3
   },
   "file_extension": ".py",
   "mimetype": "text/x-python",
   "name": "python",
   "nbconvert_exporter": "python",
   "pygments_lexer": "ipython3",
   "version": "3.9.13"
  }
 },
 "nbformat": 4,
 "nbformat_minor": 5
}
