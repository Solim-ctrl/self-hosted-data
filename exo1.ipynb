{
 "cells": [
  {
   "cell_type": "code",
   "execution_count": 6,
   "id": "c18a303a",
   "metadata": {},
   "outputs": [],
   "source": [
    "from pyspark.sql import SparkSession\n",
    "from pyspark.sql.functions import col, sum as _sum"
   ]
  },
  {
   "cell_type": "code",
   "execution_count": 2,
   "id": "a55d62bb",
   "metadata": {},
   "outputs": [],
   "source": [
    "spark = SparkSession.builder.appName(\"Charger_CSV\").getOrCreate()"
   ]
  },
  {
   "cell_type": "code",
   "execution_count": 12,
   "id": "a3dedb16",
   "metadata": {},
   "outputs": [],
   "source": [
    "df = spark.read.csv(\"ventes.csv\", header=True, inferSchema=True)"
   ]
  },
  {
   "cell_type": "code",
   "execution_count": 13,
   "id": "5ed60abb",
   "metadata": {},
   "outputs": [
    {
     "name": "stdout",
     "output_type": "stream",
     "text": [
      "+----------+----------+--------+-------------+\n",
      "|      Date|   Produit|Quantite|Prix_unitaire|\n",
      "+----------+----------+--------+-------------+\n",
      "|01/01/2024|Ordinateur|       2|          800|\n",
      "|01/01/2024|   Clavier|       5|           20|\n",
      "|02/01/2024|    Souris|      10|           15|\n",
      "|02/01/2024|Ordinateur|       1|          800|\n",
      "|03/01/2024|   Clavier|       3|           20|\n",
      "+----------+----------+--------+-------------+\n",
      "\n"
     ]
    }
   ],
   "source": [
    "df.show()"
   ]
  },
  {
   "cell_type": "code",
   "execution_count": 14,
   "id": "377ada15",
   "metadata": {},
   "outputs": [],
   "source": [
    "# Ajout d'une colonne supplémentaire pour le CA\n",
    "df = df.withColumn(\"CA\", col(\"Quantite\") * col(\"Prix_unitaire\"))"
   ]
  },
  {
   "cell_type": "code",
   "execution_count": 15,
   "id": "61ba84a0",
   "metadata": {},
   "outputs": [
    {
     "name": "stdout",
     "output_type": "stream",
     "text": [
      "+----------+----------+--------+-------------+----+\n",
      "|      Date|   Produit|Quantite|Prix_unitaire|  CA|\n",
      "+----------+----------+--------+-------------+----+\n",
      "|01/01/2024|Ordinateur|       2|          800|1600|\n",
      "|01/01/2024|   Clavier|       5|           20| 100|\n",
      "|02/01/2024|    Souris|      10|           15| 150|\n",
      "|02/01/2024|Ordinateur|       1|          800| 800|\n",
      "|03/01/2024|   Clavier|       3|           20|  60|\n",
      "+----------+----------+--------+-------------+----+\n",
      "\n"
     ]
    }
   ],
   "source": [
    "df.show()"
   ]
  },
  {
   "cell_type": "code",
   "execution_count": 17,
   "id": "da104926",
   "metadata": {},
   "outputs": [],
   "source": [
    "# Calcul du CA total \n",
    "CA_total = df.agg(_sum(\"CA\")).collect()[0][0]"
   ]
  },
  {
   "cell_type": "code",
   "execution_count": 18,
   "id": "50704e7d",
   "metadata": {},
   "outputs": [
    {
     "name": "stdout",
     "output_type": "stream",
     "text": [
      "+----------+----------+--------+-------------+----+\n",
      "|      Date|   Produit|Quantite|Prix_unitaire|  CA|\n",
      "+----------+----------+--------+-------------+----+\n",
      "|01/01/2024|Ordinateur|       2|          800|1600|\n",
      "|01/01/2024|   Clavier|       5|           20| 100|\n",
      "|02/01/2024|    Souris|      10|           15| 150|\n",
      "|02/01/2024|Ordinateur|       1|          800| 800|\n",
      "|03/01/2024|   Clavier|       3|           20|  60|\n",
      "+----------+----------+--------+-------------+----+\n",
      "\n"
     ]
    }
   ],
   "source": [
    "df.show()"
   ]
  },
  {
   "cell_type": "code",
   "execution_count": 19,
   "id": "6f599e06",
   "metadata": {},
   "outputs": [],
   "source": [
    "# Produit le plus vendu en quantité\n",
    "most_sold = df.groupBy(\"Produit\").agg(_sum(\"Quantite\").alias(\"QuantiteTotale\")) \n",
    "most_sold = most_sold.orderBy(col(\"QuantiteTotale\").desc()).first()"
   ]
  },
  {
   "cell_type": "code",
   "execution_count": 20,
   "id": "d7e02a5a",
   "metadata": {},
   "outputs": [
    {
     "name": "stdout",
     "output_type": "stream",
     "text": [
      "CA Total --> : 2710\n",
      "Produit le plus vendu --> : Row(Produit='Souris', QuantiteTotale=10)\n"
     ]
    }
   ],
   "source": [
    "print(f\"CA Total --> : {CA_total}\")\n",
    "print (f\"Produit le plus vendu --> : {most_sold}\")"
   ]
  },
  {
   "cell_type": "code",
   "execution_count": 22,
   "id": "ad267dc7",
   "metadata": {},
   "outputs": [],
   "source": [
    "spark.stop()"
   ]
  }
 ],
 "metadata": {
  "kernelspec": {
   "display_name": "Python 3 (ipykernel)",
   "language": "python",
   "name": "python3"
  },
  "language_info": {
   "codemirror_mode": {
    "name": "ipython",
    "version": 3
   },
   "file_extension": ".py",
   "mimetype": "text/x-python",
   "name": "python",
   "nbconvert_exporter": "python",
   "pygments_lexer": "ipython3",
   "version": "3.9.13"
  }
 },
 "nbformat": 4,
 "nbformat_minor": 5
}
