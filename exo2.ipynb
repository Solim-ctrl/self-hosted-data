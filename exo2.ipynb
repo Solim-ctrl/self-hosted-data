{
 "cells": [
  {
   "cell_type": "code",
   "execution_count": 26,
   "id": "b2fbbb23",
   "metadata": {},
   "outputs": [],
   "source": [
    "from pyspark.sql import SparkSession \n",
    "from pyspark.sql.functions import col, avg, count, min"
   ]
  },
  {
   "cell_type": "code",
   "execution_count": 3,
   "id": "de03097a",
   "metadata": {},
   "outputs": [],
   "source": [
    "spark = SparkSession.builder.appName(\"UsersAnalysis\").getOrCreate() "
   ]
  },
  {
   "cell_type": "code",
   "execution_count": 29,
   "id": "2eaca1f9",
   "metadata": {},
   "outputs": [],
   "source": [
    "#Chargement du ficier\n",
    "df = spark.read.json(\"users.JSON\")"
   ]
  },
  {
   "cell_type": "code",
   "execution_count": 30,
   "id": "7951ac80",
   "metadata": {},
   "outputs": [
    {
     "name": "stdout",
     "output_type": "stream",
     "text": [
      "+---+------+---------+---+\n",
      "| id|   nom|    ville|âge|\n",
      "+---+------+---------+---+\n",
      "|  1| Alice|    Paris| 25|\n",
      "|  2|   Bob|     Lyon| 30|\n",
      "|  3|Claire|    Paris| 35|\n",
      "|  4| David|Marseille| 40|\n",
      "|  5|  Emma|     Lyon| 22|\n",
      "+---+------+---------+---+\n",
      "\n"
     ]
    }
   ],
   "source": [
    "df.show()"
   ]
  },
  {
   "cell_type": "code",
   "execution_count": 31,
   "id": "6dfb6635",
   "metadata": {},
   "outputs": [],
   "source": [
    "#Calcul de l'âge moyen e utilisant avg\n",
    "age_moyen = df.agg(avg(\"âge\")).collect()[0][0]"
   ]
  },
  {
   "cell_type": "code",
   "execution_count": 32,
   "id": "f4c12e4c",
   "metadata": {},
   "outputs": [
    {
     "name": "stdout",
     "output_type": "stream",
     "text": [
      "age_moyen ---> :30.4\n"
     ]
    }
   ],
   "source": [
    "print(f\"age_moyen ---> :{age_moyen}\")"
   ]
  },
  {
   "cell_type": "code",
   "execution_count": 33,
   "id": "f01322cf",
   "metadata": {},
   "outputs": [],
   "source": [
    "# Calcul du nombre d'utilisateurs par ville avec groupBy\n",
    "users_per_city = df.groupBy(\"ville\").agg(count(\"id\").alias(\"Nb_users\"))"
   ]
  },
  {
   "cell_type": "code",
   "execution_count": 34,
   "id": "74cde7ba",
   "metadata": {},
   "outputs": [
    {
     "name": "stdout",
     "output_type": "stream",
     "text": [
      "+---------+--------+\n",
      "|    ville|Nb_users|\n",
      "+---------+--------+\n",
      "|Marseille|       1|\n",
      "|    Paris|       2|\n",
      "|     Lyon|       2|\n",
      "+---------+--------+\n",
      "\n",
      "Nombre d'utilisateurs par ville ---> :None\n"
     ]
    }
   ],
   "source": [
    "print(f\"Nombre d'utilisateurs par ville ---> :{users_per_city.show()}\")"
   ]
  },
  {
   "cell_type": "code",
   "execution_count": 35,
   "id": "70e6f9ea",
   "metadata": {},
   "outputs": [],
   "source": [
    "# Trouver le plus jeune utilisateur \n",
    "youngest_user = df.orderBy(col(\"âge\").asc()).limit(1)"
   ]
  },
  {
   "cell_type": "code",
   "execution_count": 36,
   "id": "17656be5",
   "metadata": {},
   "outputs": [
    {
     "name": "stdout",
     "output_type": "stream",
     "text": [
      "+---+----+-----+---+\n",
      "| id| nom|ville|âge|\n",
      "+---+----+-----+---+\n",
      "|  5|Emma| Lyon| 22|\n",
      "+---+----+-----+---+\n",
      "\n"
     ]
    }
   ],
   "source": [
    "youngest_user.show()"
   ]
  },
  {
   "cell_type": "code",
   "execution_count": 38,
   "id": "53d46729",
   "metadata": {},
   "outputs": [],
   "source": [
    "spark.stop()"
   ]
  }
 ],
 "metadata": {
  "kernelspec": {
   "display_name": "Python 3 (ipykernel)",
   "language": "python",
   "name": "python3"
  },
  "language_info": {
   "codemirror_mode": {
    "name": "ipython",
    "version": 3
   },
   "file_extension": ".py",
   "mimetype": "text/x-python",
   "name": "python",
   "nbconvert_exporter": "python",
   "pygments_lexer": "ipython3",
   "version": "3.9.13"
  }
 },
 "nbformat": 4,
 "nbformat_minor": 5
}
